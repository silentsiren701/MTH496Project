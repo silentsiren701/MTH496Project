{
 "cells": [
  {
   "cell_type": "markdown",
   "metadata": {
    "pycharm": {
     "name": "#%% md\n"
    }
   },
   "source": [
    "## Something else"
   ]
  },
  {
   "cell_type": "markdown",
   "metadata": {
    "pycharm": {
     "name": "#%% md\n"
    }
   },
   "source": [
    "## Data Prepration"
   ]
  },
  {
   "cell_type": "code",
   "execution_count": 210,
   "metadata": {
    "pycharm": {
     "name": "#%%\n"
    }
   },
   "outputs": [],
   "source": [
    "import warnings\n",
    "\n",
    "import sklearn.utils\n",
    "\n",
    "warnings.filterwarnings('ignore')\n",
    "\n",
    "import datetime\n",
    "import numpy as np\n",
    "import pandas as pd\n",
    "import sklearn\n",
    "import time\n",
    "\n",
    "import seaborn as sns\n",
    "sns.set(style='white',context='notebook',palette='muted')\n",
    "\n",
    "import matplotlib.pyplot as plt"
   ]
  },
  {
   "cell_type": "code",
   "execution_count": 211,
   "metadata": {
    "pycharm": {
     "name": "#%%\n"
    }
   },
   "outputs": [],
   "source": [
    "df_train = pd.read_csv('train.csv')\n",
    "df_test = pd.read_csv('test.csv')"
   ]
  },
  {
   "cell_type": "markdown",
   "metadata": {
    "pycharm": {
     "name": "#%% md\n"
    }
   },
   "source": [
    "## Data Analysing"
   ]
  },
  {
   "cell_type": "code",
   "execution_count": 212,
   "metadata": {
    "pycharm": {
     "name": "#%%\n"
    }
   },
   "outputs": [
    {
     "name": "stdout",
     "output_type": "stream",
     "text": [
      "Training Data Size: (86807, 12)\n",
      "Testing Data Size: (9646, 12)\n"
     ]
    }
   ],
   "source": [
    "print(\"Training Data Size:\", df_train.shape)\n",
    "print(\"Testing Data Size:\", df_test.shape)"
   ]
  },
  {
   "cell_type": "markdown",
   "metadata": {
    "pycharm": {
     "name": "#%% md\n"
    }
   },
   "source": [
    "We have 86807 samples in Training data, and 9646 in Testing data. Which is total 96453 samples.\n",
    "There is 12 features in each of the dataframes\n",
    "\n",
    "Before we step in, the whole data set should be reviewed to check any outlier values or missing values exist."
   ]
  },
  {
   "cell_type": "code",
   "execution_count": 213,
   "metadata": {
    "pycharm": {
     "name": "#%%\n"
    }
   },
   "outputs": [
    {
     "data": {
      "text/plain": "                  Formatted Date        Summary Precip Type  Temperature (C)  \\\n0  2016-11-15 19:00:00.000 +0100  Partly Cloudy        rain         5.777778   \n1  2011-05-17 21:00:00.000 +0200  Partly Cloudy        rain        13.866667   \n2  2007-02-11 06:00:00.000 +0100          Foggy        rain         6.083333   \n3  2009-05-09 11:00:00.000 +0200  Partly Cloudy        rain        24.861111   \n4  2012-07-21 10:00:00.000 +0200  Partly Cloudy        rain        24.794444   \n\n   Apparent Temperature (C)  Humidity  Wind Speed (km/h)  \\\n0                  3.933333      0.82             8.5008   \n1                 13.866667      0.92             9.6600   \n2                  6.083333      1.00             0.8211   \n3                 24.861111      0.42             8.3559   \n4                 24.794444      0.50            24.0373   \n\n   Wind Bearing (degrees)  Visibility (km)  Loud Cover  Pressure (millibars)  \\\n0                   142.0           9.6439         0.0               1018.67   \n1                   280.0           9.9820         0.0               1020.70   \n2                   200.0           0.1610         0.0               1011.65   \n3                   206.0          10.3684         0.0               1020.85   \n4                   359.0           9.9820         0.0               1012.37   \n\n                       Daily Summary  \n0  Partly cloudy throughout the day.  \n1  Partly cloudy throughout the day.  \n2          Foggy starting overnight.  \n3         Partly cloudy until night.  \n4  Partly cloudy throughout the day.  ",
      "text/html": "<div>\n<style scoped>\n    .dataframe tbody tr th:only-of-type {\n        vertical-align: middle;\n    }\n\n    .dataframe tbody tr th {\n        vertical-align: top;\n    }\n\n    .dataframe thead th {\n        text-align: right;\n    }\n</style>\n<table border=\"1\" class=\"dataframe\">\n  <thead>\n    <tr style=\"text-align: right;\">\n      <th></th>\n      <th>Formatted Date</th>\n      <th>Summary</th>\n      <th>Precip Type</th>\n      <th>Temperature (C)</th>\n      <th>Apparent Temperature (C)</th>\n      <th>Humidity</th>\n      <th>Wind Speed (km/h)</th>\n      <th>Wind Bearing (degrees)</th>\n      <th>Visibility (km)</th>\n      <th>Loud Cover</th>\n      <th>Pressure (millibars)</th>\n      <th>Daily Summary</th>\n    </tr>\n  </thead>\n  <tbody>\n    <tr>\n      <th>0</th>\n      <td>2016-11-15 19:00:00.000 +0100</td>\n      <td>Partly Cloudy</td>\n      <td>rain</td>\n      <td>5.777778</td>\n      <td>3.933333</td>\n      <td>0.82</td>\n      <td>8.5008</td>\n      <td>142.0</td>\n      <td>9.6439</td>\n      <td>0.0</td>\n      <td>1018.67</td>\n      <td>Partly cloudy throughout the day.</td>\n    </tr>\n    <tr>\n      <th>1</th>\n      <td>2011-05-17 21:00:00.000 +0200</td>\n      <td>Partly Cloudy</td>\n      <td>rain</td>\n      <td>13.866667</td>\n      <td>13.866667</td>\n      <td>0.92</td>\n      <td>9.6600</td>\n      <td>280.0</td>\n      <td>9.9820</td>\n      <td>0.0</td>\n      <td>1020.70</td>\n      <td>Partly cloudy throughout the day.</td>\n    </tr>\n    <tr>\n      <th>2</th>\n      <td>2007-02-11 06:00:00.000 +0100</td>\n      <td>Foggy</td>\n      <td>rain</td>\n      <td>6.083333</td>\n      <td>6.083333</td>\n      <td>1.00</td>\n      <td>0.8211</td>\n      <td>200.0</td>\n      <td>0.1610</td>\n      <td>0.0</td>\n      <td>1011.65</td>\n      <td>Foggy starting overnight.</td>\n    </tr>\n    <tr>\n      <th>3</th>\n      <td>2009-05-09 11:00:00.000 +0200</td>\n      <td>Partly Cloudy</td>\n      <td>rain</td>\n      <td>24.861111</td>\n      <td>24.861111</td>\n      <td>0.42</td>\n      <td>8.3559</td>\n      <td>206.0</td>\n      <td>10.3684</td>\n      <td>0.0</td>\n      <td>1020.85</td>\n      <td>Partly cloudy until night.</td>\n    </tr>\n    <tr>\n      <th>4</th>\n      <td>2012-07-21 10:00:00.000 +0200</td>\n      <td>Partly Cloudy</td>\n      <td>rain</td>\n      <td>24.794444</td>\n      <td>24.794444</td>\n      <td>0.50</td>\n      <td>24.0373</td>\n      <td>359.0</td>\n      <td>9.9820</td>\n      <td>0.0</td>\n      <td>1012.37</td>\n      <td>Partly cloudy throughout the day.</td>\n    </tr>\n  </tbody>\n</table>\n</div>"
     },
     "execution_count": 213,
     "metadata": {},
     "output_type": "execute_result"
    }
   ],
   "source": [
    "df_full = df_train.append(df_test)\n",
    "df_full.head()"
   ]
  },
  {
   "cell_type": "code",
   "execution_count": 214,
   "metadata": {
    "pycharm": {
     "name": "#%%\n"
    }
   },
   "outputs": [
    {
     "data": {
      "text/plain": "       Temperature (C)  Apparent Temperature (C)      Humidity  \\\ncount     96453.000000              96453.000000  96453.000000   \nmean         11.932678                 10.855029      0.734899   \nstd           9.551546                 10.696847      0.195473   \nmin         -21.822222                -27.716667      0.000000   \n25%           4.688889                  2.311111      0.600000   \n50%          12.000000                 12.000000      0.780000   \n75%          18.838889                 18.838889      0.890000   \nmax          39.905556                 39.344444      1.000000   \n\n       Wind Speed (km/h)  Wind Bearing (degrees)  Visibility (km)  Loud Cover  \\\ncount       96453.000000            96453.000000     96453.000000     96453.0   \nmean           10.810640              187.509232        10.347325         0.0   \nstd             6.913571              107.383428         4.192123         0.0   \nmin             0.000000                0.000000         0.000000         0.0   \n25%             5.828200              116.000000         8.339800         0.0   \n50%             9.965900              180.000000        10.046400         0.0   \n75%            14.135800              290.000000        14.812000         0.0   \nmax            63.852600              359.000000        16.100000         0.0   \n\n       Pressure (millibars)  \ncount          96453.000000  \nmean            1003.235956  \nstd              116.969906  \nmin                0.000000  \n25%             1011.900000  \n50%             1016.450000  \n75%             1021.090000  \nmax             1046.380000  ",
      "text/html": "<div>\n<style scoped>\n    .dataframe tbody tr th:only-of-type {\n        vertical-align: middle;\n    }\n\n    .dataframe tbody tr th {\n        vertical-align: top;\n    }\n\n    .dataframe thead th {\n        text-align: right;\n    }\n</style>\n<table border=\"1\" class=\"dataframe\">\n  <thead>\n    <tr style=\"text-align: right;\">\n      <th></th>\n      <th>Temperature (C)</th>\n      <th>Apparent Temperature (C)</th>\n      <th>Humidity</th>\n      <th>Wind Speed (km/h)</th>\n      <th>Wind Bearing (degrees)</th>\n      <th>Visibility (km)</th>\n      <th>Loud Cover</th>\n      <th>Pressure (millibars)</th>\n    </tr>\n  </thead>\n  <tbody>\n    <tr>\n      <th>count</th>\n      <td>96453.000000</td>\n      <td>96453.000000</td>\n      <td>96453.000000</td>\n      <td>96453.000000</td>\n      <td>96453.000000</td>\n      <td>96453.000000</td>\n      <td>96453.0</td>\n      <td>96453.000000</td>\n    </tr>\n    <tr>\n      <th>mean</th>\n      <td>11.932678</td>\n      <td>10.855029</td>\n      <td>0.734899</td>\n      <td>10.810640</td>\n      <td>187.509232</td>\n      <td>10.347325</td>\n      <td>0.0</td>\n      <td>1003.235956</td>\n    </tr>\n    <tr>\n      <th>std</th>\n      <td>9.551546</td>\n      <td>10.696847</td>\n      <td>0.195473</td>\n      <td>6.913571</td>\n      <td>107.383428</td>\n      <td>4.192123</td>\n      <td>0.0</td>\n      <td>116.969906</td>\n    </tr>\n    <tr>\n      <th>min</th>\n      <td>-21.822222</td>\n      <td>-27.716667</td>\n      <td>0.000000</td>\n      <td>0.000000</td>\n      <td>0.000000</td>\n      <td>0.000000</td>\n      <td>0.0</td>\n      <td>0.000000</td>\n    </tr>\n    <tr>\n      <th>25%</th>\n      <td>4.688889</td>\n      <td>2.311111</td>\n      <td>0.600000</td>\n      <td>5.828200</td>\n      <td>116.000000</td>\n      <td>8.339800</td>\n      <td>0.0</td>\n      <td>1011.900000</td>\n    </tr>\n    <tr>\n      <th>50%</th>\n      <td>12.000000</td>\n      <td>12.000000</td>\n      <td>0.780000</td>\n      <td>9.965900</td>\n      <td>180.000000</td>\n      <td>10.046400</td>\n      <td>0.0</td>\n      <td>1016.450000</td>\n    </tr>\n    <tr>\n      <th>75%</th>\n      <td>18.838889</td>\n      <td>18.838889</td>\n      <td>0.890000</td>\n      <td>14.135800</td>\n      <td>290.000000</td>\n      <td>14.812000</td>\n      <td>0.0</td>\n      <td>1021.090000</td>\n    </tr>\n    <tr>\n      <th>max</th>\n      <td>39.905556</td>\n      <td>39.344444</td>\n      <td>1.000000</td>\n      <td>63.852600</td>\n      <td>359.000000</td>\n      <td>16.100000</td>\n      <td>0.0</td>\n      <td>1046.380000</td>\n    </tr>\n  </tbody>\n</table>\n</div>"
     },
     "execution_count": 214,
     "metadata": {},
     "output_type": "execute_result"
    }
   ],
   "source": [
    "df_full.describe()"
   ]
  },
  {
   "cell_type": "markdown",
   "metadata": {
    "pycharm": {
     "name": "#%% md\n"
    }
   },
   "source": [
    "For these 8 feature that is integer values, we could see there is no obvious outlier values or missing values. One thing worth notice is all values in **Loud Covers** are 0. Which means this feature probably have **no effect** on our model."
   ]
  },
  {
   "cell_type": "code",
   "execution_count": 215,
   "metadata": {
    "pycharm": {
     "name": "#%%\n"
    }
   },
   "outputs": [
    {
     "name": "stdout",
     "output_type": "stream",
     "text": [
      "<class 'pandas.core.frame.DataFrame'>\n",
      "Int64Index: 96453 entries, 0 to 9645\n",
      "Data columns (total 12 columns):\n",
      " #   Column                    Non-Null Count  Dtype  \n",
      "---  ------                    --------------  -----  \n",
      " 0   Formatted Date            96453 non-null  object \n",
      " 1   Summary                   96453 non-null  object \n",
      " 2   Precip Type               95936 non-null  object \n",
      " 3   Temperature (C)           96453 non-null  float64\n",
      " 4   Apparent Temperature (C)  96453 non-null  float64\n",
      " 5   Humidity                  96453 non-null  float64\n",
      " 6   Wind Speed (km/h)         96453 non-null  float64\n",
      " 7   Wind Bearing (degrees)    96453 non-null  float64\n",
      " 8   Visibility (km)           96453 non-null  float64\n",
      " 9   Loud Cover                96453 non-null  float64\n",
      " 10  Pressure (millibars)      96453 non-null  float64\n",
      " 11  Daily Summary             96453 non-null  object \n",
      "dtypes: float64(8), object(4)\n",
      "memory usage: 9.6+ MB\n"
     ]
    }
   ],
   "source": [
    "df_full.info()"
   ]
  },
  {
   "cell_type": "markdown",
   "metadata": {
    "pycharm": {
     "name": "#%% md\n"
    }
   },
   "source": [
    "It's easy to see all features have same amount of sample except Precip Type. It have about 1 percent of data missing."
   ]
  },
  {
   "cell_type": "markdown",
   "metadata": {
    "pycharm": {
     "name": "#%% md\n"
    }
   },
   "source": [
    "### Feature Summary"
   ]
  },
  {
   "cell_type": "code",
   "execution_count": 216,
   "metadata": {
    "pycharm": {
     "name": "#%%\n"
    }
   },
   "outputs": [
    {
     "data": {
      "text/plain": "array(['Partly Cloudy', 'Foggy', 'Clear', 'Overcast', 'Mostly Cloudy',\n       'Breezy and Overcast', 'Light Rain', 'Breezy and Mostly Cloudy',\n       'Breezy and Partly Cloudy', 'Dry', 'Drizzle', 'Breezy', 'Windy',\n       'Windy and Mostly Cloudy', 'Humid and Mostly Cloudy',\n       'Windy and Partly Cloudy', 'Windy and Overcast',\n       'Breezy and Foggy', 'Windy and Dry', 'Dry and Partly Cloudy',\n       'Humid and Partly Cloudy', 'Dry and Mostly Cloudy', 'Rain',\n       'Windy and Foggy', 'Humid and Overcast',\n       'Dangerously Windy and Partly Cloudy', 'Breezy and Dry'],\n      dtype=object)"
     },
     "execution_count": 216,
     "metadata": {},
     "output_type": "execute_result"
    }
   ],
   "source": [
    "df_full.Summary.unique()"
   ]
  },
  {
   "cell_type": "code",
   "execution_count": 217,
   "metadata": {
    "pycharm": {
     "name": "#%%\n"
    }
   },
   "outputs": [
    {
     "data": {
      "text/plain": "<AxesSubplot:xlabel='Summary', ylabel='Temperature (C)'>"
     },
     "execution_count": 217,
     "metadata": {},
     "output_type": "execute_result"
    },
    {
     "data": {
      "text/plain": "<Figure size 640x480 with 1 Axes>",
      "image/png": "[encoded data removed]"
     },
     "metadata": {},
     "output_type": "display_data"
    }
   ],
   "source": [
    "sns.barplot(data=df_full, x='Summary', y='Temperature (C)')"
   ]
  },
  {
   "cell_type": "code",
   "execution_count": 218,
   "metadata": {
    "pycharm": {
     "name": "#%%\n"
    }
   },
   "outputs": [
    {
     "data": {
      "text/plain": "<AxesSubplot:xlabel='Precip Type', ylabel='Temperature (C)'>"
     },
     "execution_count": 218,
     "metadata": {},
     "output_type": "execute_result"
    },
    {
     "data": {
      "text/plain": "<Figure size 640x480 with 1 Axes>",
      "image/png": "[encoded data removed]"
     },
     "metadata": {},
     "output_type": "display_data"
    }
   ],
   "source": [
    "sns.barplot(data=df_full, x='Precip Type', y='Temperature (C)')"
   ]
  },
  {
   "cell_type": "markdown",
   "metadata": {
    "pycharm": {
     "name": "#%% md\n"
    }
   },
   "source": [
    "Daily Summary basically have same context but write more procisely. We will only use summery here."
   ]
  },
  {
   "cell_type": "markdown",
   "metadata": {
    "pycharm": {
     "name": "#%% md\n"
    }
   },
   "source": [
    "## 数据处理\n",
    "1. break summary to multiple features\n",
    "2. change Date into only contains Month\n",
    "3. fill precip type, then change it into numerical values.\n",
    "4. delete all the unused features"
   ]
  },
  {
   "cell_type": "markdown",
   "metadata": {
    "pycharm": {
     "name": "#%% md\n"
    }
   },
   "source": [
    "### 1.\n",
    "\n",
    "After remove the adjs, we find all summery are formed by 10 different words.\n",
    "Breezy, Clear, Windy, Dizzle, Dry, Foggy, Humid, Rain, Cloudy, Overcast"
   ]
  },
  {
   "cell_type": "code",
   "execution_count": 219,
   "metadata": {
    "pycharm": {
     "name": "#%%\n"
    }
   },
   "outputs": [],
   "source": [
    "def create_new_features(df, feature, values):\n",
    "    for value in values:\n",
    "        df[value] = df[feature].apply(lambda x: 1 if value in x else 0)\n"
   ]
  },
  {
   "cell_type": "code",
   "execution_count": 220,
   "metadata": {
    "pycharm": {
     "name": "#%%\n"
    }
   },
   "outputs": [
    {
     "data": {
      "text/plain": "                  Formatted Date Precip Type  Temperature (C)  \\\n0  2016-11-15 19:00:00.000 +0100        rain         5.777778   \n1  2011-05-17 21:00:00.000 +0200        rain        13.866667   \n2  2007-02-11 06:00:00.000 +0100        rain         6.083333   \n3  2009-05-09 11:00:00.000 +0200        rain        24.861111   \n4  2012-07-21 10:00:00.000 +0200        rain        24.794444   \n\n   Apparent Temperature (C)  Humidity  Wind Speed (km/h)  \\\n0                  3.933333      0.82             8.5008   \n1                 13.866667      0.92             9.6600   \n2                  6.083333      1.00             0.8211   \n3                 24.861111      0.42             8.3559   \n4                 24.794444      0.50            24.0373   \n\n   Wind Bearing (degrees)  Visibility (km)  Pressure (millibars)  Breezy  \\\n0                   142.0           9.6439               1018.67       0   \n1                   280.0           9.9820               1020.70       0   \n2                   200.0           0.1610               1011.65       0   \n3                   206.0          10.3684               1020.85       0   \n4                   359.0           9.9820               1012.37       0   \n\n   Clear  Windy  Dizzle  Dry  Foggy  Humid  Rain  Cloudy  Overcast  \n0      0      0       0    0      0      0     0       1         0  \n1      0      0       0    0      0      0     0       1         0  \n2      0      0       0    0      1      0     0       0         0  \n3      0      0       0    0      0      0     0       1         0  \n4      0      0       0    0      0      0     0       1         0  ",
      "text/html": "<div>\n<style scoped>\n    .dataframe tbody tr th:only-of-type {\n        vertical-align: middle;\n    }\n\n    .dataframe tbody tr th {\n        vertical-align: top;\n    }\n\n    .dataframe thead th {\n        text-align: right;\n    }\n</style>\n<table border=\"1\" class=\"dataframe\">\n  <thead>\n    <tr style=\"text-align: right;\">\n      <th></th>\n      <th>Formatted Date</th>\n      <th>Precip Type</th>\n      <th>Temperature (C)</th>\n      <th>Apparent Temperature (C)</th>\n      <th>Humidity</th>\n      <th>Wind Speed (km/h)</th>\n      <th>Wind Bearing (degrees)</th>\n      <th>Visibility (km)</th>\n      <th>Pressure (millibars)</th>\n      <th>Breezy</th>\n      <th>Clear</th>\n      <th>Windy</th>\n      <th>Dizzle</th>\n      <th>Dry</th>\n      <th>Foggy</th>\n      <th>Humid</th>\n      <th>Rain</th>\n      <th>Cloudy</th>\n      <th>Overcast</th>\n    </tr>\n  </thead>\n  <tbody>\n    <tr>\n      <th>0</th>\n      <td>2016-11-15 19:00:00.000 +0100</td>\n      <td>rain</td>\n      <td>5.777778</td>\n      <td>3.933333</td>\n      <td>0.82</td>\n      <td>8.5008</td>\n      <td>142.0</td>\n      <td>9.6439</td>\n      <td>1018.67</td>\n      <td>0</td>\n      <td>0</td>\n      <td>0</td>\n      <td>0</td>\n      <td>0</td>\n      <td>0</td>\n      <td>0</td>\n      <td>0</td>\n      <td>1</td>\n      <td>0</td>\n    </tr>\n    <tr>\n      <th>1</th>\n      <td>2011-05-17 21:00:00.000 +0200</td>\n      <td>rain</td>\n      <td>13.866667</td>\n      <td>13.866667</td>\n      <td>0.92</td>\n      <td>9.6600</td>\n      <td>280.0</td>\n      <td>9.9820</td>\n      <td>1020.70</td>\n      <td>0</td>\n      <td>0</td>\n      <td>0</td>\n      <td>0</td>\n      <td>0</td>\n      <td>0</td>\n      <td>0</td>\n      <td>0</td>\n      <td>1</td>\n      <td>0</td>\n    </tr>\n    <tr>\n      <th>2</th>\n      <td>2007-02-11 06:00:00.000 +0100</td>\n      <td>rain</td>\n      <td>6.083333</td>\n      <td>6.083333</td>\n      <td>1.00</td>\n      <td>0.8211</td>\n      <td>200.0</td>\n      <td>0.1610</td>\n      <td>1011.65</td>\n      <td>0</td>\n      <td>0</td>\n      <td>0</td>\n      <td>0</td>\n      <td>0</td>\n      <td>1</td>\n      <td>0</td>\n      <td>0</td>\n      <td>0</td>\n      <td>0</td>\n    </tr>\n    <tr>\n      <th>3</th>\n      <td>2009-05-09 11:00:00.000 +0200</td>\n      <td>rain</td>\n      <td>24.861111</td>\n      <td>24.861111</td>\n      <td>0.42</td>\n      <td>8.3559</td>\n      <td>206.0</td>\n      <td>10.3684</td>\n      <td>1020.85</td>\n      <td>0</td>\n      <td>0</td>\n      <td>0</td>\n      <td>0</td>\n      <td>0</td>\n      <td>0</td>\n      <td>0</td>\n      <td>0</td>\n      <td>1</td>\n      <td>0</td>\n    </tr>\n    <tr>\n      <th>4</th>\n      <td>2012-07-21 10:00:00.000 +0200</td>\n      <td>rain</td>\n      <td>24.794444</td>\n      <td>24.794444</td>\n      <td>0.50</td>\n      <td>24.0373</td>\n      <td>359.0</td>\n      <td>9.9820</td>\n      <td>1012.37</td>\n      <td>0</td>\n      <td>0</td>\n      <td>0</td>\n      <td>0</td>\n      <td>0</td>\n      <td>0</td>\n      <td>0</td>\n      <td>0</td>\n      <td>1</td>\n      <td>0</td>\n    </tr>\n  </tbody>\n</table>\n</div>"
     },
     "execution_count": 220,
     "metadata": {},
     "output_type": "execute_result"
    }
   ],
   "source": [
    "new_summary = [\"Breezy\", \"Clear\", \"Windy\", \"Dizzle\", \"Dry\", \"Foggy\", \"Humid\", \"Rain\", \"Cloudy\", \"Overcast\"]\n",
    "create_new_features(df_full, \"Summary\", new_summary)\n",
    "df_full = df_full.drop([\"Summary\", \"Daily Summary\", \"Loud Cover\"], axis=1)\n",
    "df_full.head()"
   ]
  },
  {
   "cell_type": "markdown",
   "metadata": {
    "pycharm": {
     "name": "#%% md\n"
    }
   },
   "source": [
    "### 2.\n",
    "\n"
   ]
  },
  {
   "cell_type": "code",
   "execution_count": 221,
   "metadata": {
    "pycharm": {
     "name": "#%%\n"
    }
   },
   "outputs": [],
   "source": [
    "df_full[\"Month\"] = df_full[\"Formatted Date\"].apply(\n",
    "        lambda date_string: datetime.datetime.strptime(date_string, \"%Y-%m-%d %H:%M:%S.%f %z\").month)\n",
    "df_full = df_full.drop([\"Formatted Date\"], axis=1)"
   ]
  },
  {
   "cell_type": "code",
   "execution_count": 222,
   "metadata": {
    "pycharm": {
     "name": "#%%\n"
    }
   },
   "outputs": [
    {
     "data": {
      "text/plain": "     Precip Type  Temperature (C)  Apparent Temperature (C)  Humidity  \\\n0           rain         5.777778                  3.933333      0.82   \n1           rain        13.866667                 13.866667      0.92   \n2           rain         6.083333                  6.083333      1.00   \n3           rain        24.861111                 24.861111      0.42   \n4           rain        24.794444                 24.794444      0.50   \n...          ...              ...                       ...       ...   \n9641        rain        14.944444                 14.944444      0.67   \n9642        rain         8.905556                  8.905556      0.83   \n9643        rain        27.200000                 28.005556      0.56   \n9644        snow        -3.888889                 -7.305556      0.84   \n9645        snow        -4.972222                 -4.972222      0.92   \n\n      Wind Speed (km/h)  Wind Bearing (degrees)  Visibility (km)  \\\n0                8.5008                   142.0           9.6439   \n1                9.6600                   280.0           9.9820   \n2                0.8211                   200.0           0.1610   \n3                8.3559                   206.0          10.3684   \n4               24.0373                   359.0           9.9820   \n...                 ...                     ...              ...   \n9641             7.1645                   132.0          10.3523   \n9642             4.4597                   357.0          11.2056   \n9643             8.4042                   200.0           9.9820   \n9644             8.0500                   210.0           8.0500   \n9645             0.1288                   140.0           0.0644   \n\n      Pressure (millibars)  Breezy  Clear  Windy  Dizzle  Dry  Foggy  Humid  \\\n0                  1018.67       0      0      0       0    0      0      0   \n1                  1020.70       0      0      0       0    0      0      0   \n2                  1011.65       0      0      0       0    0      1      0   \n3                  1020.85       0      0      0       0    0      0      0   \n4                  1012.37       0      0      0       0    0      0      0   \n...                    ...     ...    ...    ...     ...  ...    ...    ...   \n9641               1014.90       0      0      0       0    0      0      0   \n9642               1012.62       0      0      0       0    0      0      0   \n9643               1017.87       0      0      0       0    0      0      0   \n9644               1025.90       0      0      0       0    0      0      0   \n9645               1033.88       0      0      0       0    0      1      0   \n\n      Rain  Cloudy  Overcast  Month  \n0        0       1         0     11  \n1        0       1         0      5  \n2        0       0         0      2  \n3        0       1         0      5  \n4        0       1         0      7  \n...    ...     ...       ...    ...  \n9641     0       1         0      4  \n9642     0       1         0      4  \n9643     0       1         0      6  \n9644     0       1         0      1  \n9645     0       0         0     11  \n\n[96453 rows x 19 columns]",
      "text/html": "<div>\n<style scoped>\n    .dataframe tbody tr th:only-of-type {\n        vertical-align: middle;\n    }\n\n    .dataframe tbody tr th {\n        vertical-align: top;\n    }\n\n    .dataframe thead th {\n        text-align: right;\n    }\n</style>\n<table border=\"1\" class=\"dataframe\">\n  <thead>\n    <tr style=\"text-align: right;\">\n      <th></th>\n      <th>Precip Type</th>\n      <th>Temperature (C)</th>\n      <th>Apparent Temperature (C)</th>\n      <th>Humidity</th>\n      <th>Wind Speed (km/h)</th>\n      <th>Wind Bearing (degrees)</th>\n      <th>Visibility (km)</th>\n      <th>Pressure (millibars)</th>\n      <th>Breezy</th>\n      <th>Clear</th>\n      <th>Windy</th>\n      <th>Dizzle</th>\n      <th>Dry</th>\n      <th>Foggy</th>\n      <th>Humid</th>\n      <th>Rain</th>\n      <th>Cloudy</th>\n      <th>Overcast</th>\n      <th>Month</th>\n    </tr>\n  </thead>\n  <tbody>\n    <tr>\n      <th>0</th>\n      <td>rain</td>\n      <td>5.777778</td>\n      <td>3.933333</td>\n      <td>0.82</td>\n      <td>8.5008</td>\n      <td>142.0</td>\n      <td>9.6439</td>\n      <td>1018.67</td>\n      <td>0</td>\n      <td>0</td>\n      <td>0</td>\n      <td>0</td>\n      <td>0</td>\n      <td>0</td>\n      <td>0</td>\n      <td>0</td>\n      <td>1</td>\n      <td>0</td>\n      <td>11</td>\n    </tr>\n    <tr>\n      <th>1</th>\n      <td>rain</td>\n      <td>13.866667</td>\n      <td>13.866667</td>\n      <td>0.92</td>\n      <td>9.6600</td>\n      <td>280.0</td>\n      <td>9.9820</td>\n      <td>1020.70</td>\n      <td>0</td>\n      <td>0</td>\n      <td>0</td>\n      <td>0</td>\n      <td>0</td>\n      <td>0</td>\n      <td>0</td>\n      <td>0</td>\n      <td>1</td>\n      <td>0</td>\n      <td>5</td>\n    </tr>\n    <tr>\n      <th>2</th>\n      <td>rain</td>\n      <td>6.083333</td>\n      <td>6.083333</td>\n      <td>1.00</td>\n      <td>0.8211</td>\n      <td>200.0</td>\n      <td>0.1610</td>\n      <td>1011.65</td>\n      <td>0</td>\n      <td>0</td>\n      <td>0</td>\n      <td>0</td>\n      <td>0</td>\n      <td>1</td>\n      <td>0</td>\n      <td>0</td>\n      <td>0</td>\n      <td>0</td>\n      <td>2</td>\n    </tr>\n    <tr>\n      <th>3</th>\n      <td>rain</td>\n      <td>24.861111</td>\n      <td>24.861111</td>\n      <td>0.42</td>\n      <td>8.3559</td>\n      <td>206.0</td>\n      <td>10.3684</td>\n      <td>1020.85</td>\n      <td>0</td>\n      <td>0</td>\n      <td>0</td>\n      <td>0</td>\n      <td>0</td>\n      <td>0</td>\n      <td>0</td>\n      <td>0</td>\n      <td>1</td>\n      <td>0</td>\n      <td>5</td>\n    </tr>\n    <tr>\n      <th>4</th>\n      <td>rain</td>\n      <td>24.794444</td>\n      <td>24.794444</td>\n      <td>0.50</td>\n      <td>24.0373</td>\n      <td>359.0</td>\n      <td>9.9820</td>\n      <td>1012.37</td>\n      <td>0</td>\n      <td>0</td>\n      <td>0</td>\n      <td>0</td>\n      <td>0</td>\n      <td>0</td>\n      <td>0</td>\n      <td>0</td>\n      <td>1</td>\n      <td>0</td>\n      <td>7</td>\n    </tr>\n    <tr>\n      <th>...</th>\n      <td>...</td>\n      <td>...</td>\n      <td>...</td>\n      <td>...</td>\n      <td>...</td>\n      <td>...</td>\n      <td>...</td>\n      <td>...</td>\n      <td>...</td>\n      <td>...</td>\n      <td>...</td>\n      <td>...</td>\n      <td>...</td>\n      <td>...</td>\n      <td>...</td>\n      <td>...</td>\n      <td>...</td>\n      <td>...</td>\n      <td>...</td>\n    </tr>\n    <tr>\n      <th>9641</th>\n      <td>rain</td>\n      <td>14.944444</td>\n      <td>14.944444</td>\n      <td>0.67</td>\n      <td>7.1645</td>\n      <td>132.0</td>\n      <td>10.3523</td>\n      <td>1014.90</td>\n      <td>0</td>\n      <td>0</td>\n      <td>0</td>\n      <td>0</td>\n      <td>0</td>\n      <td>0</td>\n      <td>0</td>\n      <td>0</td>\n      <td>1</td>\n      <td>0</td>\n      <td>4</td>\n    </tr>\n    <tr>\n      <th>9642</th>\n      <td>rain</td>\n      <td>8.905556</td>\n      <td>8.905556</td>\n      <td>0.83</td>\n      <td>4.4597</td>\n      <td>357.0</td>\n      <td>11.2056</td>\n      <td>1012.62</td>\n      <td>0</td>\n      <td>0</td>\n      <td>0</td>\n      <td>0</td>\n      <td>0</td>\n      <td>0</td>\n      <td>0</td>\n      <td>0</td>\n      <td>1</td>\n      <td>0</td>\n      <td>4</td>\n    </tr>\n    <tr>\n      <th>9643</th>\n      <td>rain</td>\n      <td>27.200000</td>\n      <td>28.005556</td>\n      <td>0.56</td>\n      <td>8.4042</td>\n      <td>200.0</td>\n      <td>9.9820</td>\n      <td>1017.87</td>\n      <td>0</td>\n      <td>0</td>\n      <td>0</td>\n      <td>0</td>\n      <td>0</td>\n      <td>0</td>\n      <td>0</td>\n      <td>0</td>\n      <td>1</td>\n      <td>0</td>\n      <td>6</td>\n    </tr>\n    <tr>\n      <th>9644</th>\n      <td>snow</td>\n      <td>-3.888889</td>\n      <td>-7.305556</td>\n      <td>0.84</td>\n      <td>8.0500</td>\n      <td>210.0</td>\n      <td>8.0500</td>\n      <td>1025.90</td>\n      <td>0</td>\n      <td>0</td>\n      <td>0</td>\n      <td>0</td>\n      <td>0</td>\n      <td>0</td>\n      <td>0</td>\n      <td>0</td>\n      <td>1</td>\n      <td>0</td>\n      <td>1</td>\n    </tr>\n    <tr>\n      <th>9645</th>\n      <td>snow</td>\n      <td>-4.972222</td>\n      <td>-4.972222</td>\n      <td>0.92</td>\n      <td>0.1288</td>\n      <td>140.0</td>\n      <td>0.0644</td>\n      <td>1033.88</td>\n      <td>0</td>\n      <td>0</td>\n      <td>0</td>\n      <td>0</td>\n      <td>0</td>\n      <td>1</td>\n      <td>0</td>\n      <td>0</td>\n      <td>0</td>\n      <td>0</td>\n      <td>11</td>\n    </tr>\n  </tbody>\n</table>\n<p>96453 rows × 19 columns</p>\n</div>"
     },
     "execution_count": 222,
     "metadata": {},
     "output_type": "execute_result"
    }
   ],
   "source": [
    "df_full"
   ]
  },
  {
   "cell_type": "code",
   "execution_count": 223,
   "metadata": {
    "pycharm": {
     "name": "#%%\n"
    }
   },
   "outputs": [
    {
     "data": {
      "text/plain": "count    85224.000000\nmean        13.852989\nstd          8.317505\nmin          0.005556\n25%          7.172222\n50%         13.272222\n75%         19.894444\nmax         39.905556\nName: Temperature (C), dtype: float64"
     },
     "execution_count": 223,
     "metadata": {},
     "output_type": "execute_result"
    }
   ],
   "source": [
    "mask = df_full[\"Precip Type\"] == \"rain\"\n",
    "rain_rows = df_full[mask]\n",
    "rain_rows[\"Temperature (C)\"].describe()"
   ]
  },
  {
   "cell_type": "code",
   "execution_count": 224,
   "metadata": {
    "pycharm": {
     "name": "#%%\n"
    }
   },
   "outputs": [
    {
     "data": {
      "text/plain": "count    10712.000000\nmean        -3.270885\nstd          3.075312\nmin        -21.822222\n25%         -4.861111\n50%         -2.311111\n75%         -1.094444\nmax          0.000000\nName: Temperature (C), dtype: float64"
     },
     "execution_count": 224,
     "metadata": {},
     "output_type": "execute_result"
    }
   ],
   "source": [
    "mask = df_full[\"Precip Type\"] == \"snow\"\n",
    "rain_rows = df_full[mask]\n",
    "rain_rows[\"Temperature (C)\"].describe()"
   ]
  },
  {
   "cell_type": "markdown",
   "metadata": {
    "pycharm": {
     "name": "#%% md\n"
    }
   },
   "source": [
    "Delete Precip Type since it has strong relations with Temperature"
   ]
  },
  {
   "cell_type": "code",
   "execution_count": 225,
   "metadata": {
    "pycharm": {
     "name": "#%%\n"
    }
   },
   "outputs": [],
   "source": [
    "df_full[\"Precip\"] = df_full[\"Temperature (C)\"]"
   ]
  },
  {
   "cell_type": "code",
   "execution_count": 226,
   "metadata": {
    "pycharm": {
     "name": "#%%\n"
    }
   },
   "outputs": [
    {
     "data": {
      "text/plain": "     Precip Type  Temperature (C)  Apparent Temperature (C)  Humidity  \\\n0           rain         5.777778                  3.933333      0.82   \n1           rain        13.866667                 13.866667      0.92   \n2           rain         6.083333                  6.083333      1.00   \n3           rain        24.861111                 24.861111      0.42   \n4           rain        24.794444                 24.794444      0.50   \n...          ...              ...                       ...       ...   \n9641        rain        14.944444                 14.944444      0.67   \n9642        rain         8.905556                  8.905556      0.83   \n9643        rain        27.200000                 28.005556      0.56   \n9644        snow        -3.888889                 -7.305556      0.84   \n9645        snow        -4.972222                 -4.972222      0.92   \n\n      Wind Speed (km/h)  Wind Bearing (degrees)  Visibility (km)  \\\n0                8.5008                   142.0           9.6439   \n1                9.6600                   280.0           9.9820   \n2                0.8211                   200.0           0.1610   \n3                8.3559                   206.0          10.3684   \n4               24.0373                   359.0           9.9820   \n...                 ...                     ...              ...   \n9641             7.1645                   132.0          10.3523   \n9642             4.4597                   357.0          11.2056   \n9643             8.4042                   200.0           9.9820   \n9644             8.0500                   210.0           8.0500   \n9645             0.1288                   140.0           0.0644   \n\n      Pressure (millibars)  Breezy  Clear  Windy  Dizzle  Dry  Foggy  Humid  \\\n0                  1018.67       0      0      0       0    0      0      0   \n1                  1020.70       0      0      0       0    0      0      0   \n2                  1011.65       0      0      0       0    0      1      0   \n3                  1020.85       0      0      0       0    0      0      0   \n4                  1012.37       0      0      0       0    0      0      0   \n...                    ...     ...    ...    ...     ...  ...    ...    ...   \n9641               1014.90       0      0      0       0    0      0      0   \n9642               1012.62       0      0      0       0    0      0      0   \n9643               1017.87       0      0      0       0    0      0      0   \n9644               1025.90       0      0      0       0    0      0      0   \n9645               1033.88       0      0      0       0    0      1      0   \n\n      Rain  Cloudy  Overcast  Month     Precip  \n0        0       1         0     11   5.777778  \n1        0       1         0      5  13.866667  \n2        0       0         0      2   6.083333  \n3        0       1         0      5  24.861111  \n4        0       1         0      7  24.794444  \n...    ...     ...       ...    ...        ...  \n9641     0       1         0      4  14.944444  \n9642     0       1         0      4   8.905556  \n9643     0       1         0      6  27.200000  \n9644     0       1         0      1  -3.888889  \n9645     0       0         0     11  -4.972222  \n\n[96453 rows x 20 columns]",
      "text/html": "<div>\n<style scoped>\n    .dataframe tbody tr th:only-of-type {\n        vertical-align: middle;\n    }\n\n    .dataframe tbody tr th {\n        vertical-align: top;\n    }\n\n    .dataframe thead th {\n        text-align: right;\n    }\n</style>\n<table border=\"1\" class=\"dataframe\">\n  <thead>\n    <tr style=\"text-align: right;\">\n      <th></th>\n      <th>Precip Type</th>\n      <th>Temperature (C)</th>\n      <th>Apparent Temperature (C)</th>\n      <th>Humidity</th>\n      <th>Wind Speed (km/h)</th>\n      <th>Wind Bearing (degrees)</th>\n      <th>Visibility (km)</th>\n      <th>Pressure (millibars)</th>\n      <th>Breezy</th>\n      <th>Clear</th>\n      <th>Windy</th>\n      <th>Dizzle</th>\n      <th>Dry</th>\n      <th>Foggy</th>\n      <th>Humid</th>\n      <th>Rain</th>\n      <th>Cloudy</th>\n      <th>Overcast</th>\n      <th>Month</th>\n      <th>Precip</th>\n    </tr>\n  </thead>\n  <tbody>\n    <tr>\n      <th>0</th>\n      <td>rain</td>\n      <td>5.777778</td>\n      <td>3.933333</td>\n      <td>0.82</td>\n      <td>8.5008</td>\n      <td>142.0</td>\n      <td>9.6439</td>\n      <td>1018.67</td>\n      <td>0</td>\n      <td>0</td>\n      <td>0</td>\n      <td>0</td>\n      <td>0</td>\n      <td>0</td>\n      <td>0</td>\n      <td>0</td>\n      <td>1</td>\n      <td>0</td>\n      <td>11</td>\n      <td>5.777778</td>\n    </tr>\n    <tr>\n      <th>1</th>\n      <td>rain</td>\n      <td>13.866667</td>\n      <td>13.866667</td>\n      <td>0.92</td>\n      <td>9.6600</td>\n      <td>280.0</td>\n      <td>9.9820</td>\n      <td>1020.70</td>\n      <td>0</td>\n      <td>0</td>\n      <td>0</td>\n      <td>0</td>\n      <td>0</td>\n      <td>0</td>\n      <td>0</td>\n      <td>0</td>\n      <td>1</td>\n      <td>0</td>\n      <td>5</td>\n      <td>13.866667</td>\n    </tr>\n    <tr>\n      <th>2</th>\n      <td>rain</td>\n      <td>6.083333</td>\n      <td>6.083333</td>\n      <td>1.00</td>\n      <td>0.8211</td>\n      <td>200.0</td>\n      <td>0.1610</td>\n      <td>1011.65</td>\n      <td>0</td>\n      <td>0</td>\n      <td>0</td>\n      <td>0</td>\n      <td>0</td>\n      <td>1</td>\n      <td>0</td>\n      <td>0</td>\n      <td>0</td>\n      <td>0</td>\n      <td>2</td>\n      <td>6.083333</td>\n    </tr>\n    <tr>\n      <th>3</th>\n      <td>rain</td>\n      <td>24.861111</td>\n      <td>24.861111</td>\n      <td>0.42</td>\n      <td>8.3559</td>\n      <td>206.0</td>\n      <td>10.3684</td>\n      <td>1020.85</td>\n      <td>0</td>\n      <td>0</td>\n      <td>0</td>\n      <td>0</td>\n      <td>0</td>\n      <td>0</td>\n      <td>0</td>\n      <td>0</td>\n      <td>1</td>\n      <td>0</td>\n      <td>5</td>\n      <td>24.861111</td>\n    </tr>\n    <tr>\n      <th>4</th>\n      <td>rain</td>\n      <td>24.794444</td>\n      <td>24.794444</td>\n      <td>0.50</td>\n      <td>24.0373</td>\n      <td>359.0</td>\n      <td>9.9820</td>\n      <td>1012.37</td>\n      <td>0</td>\n      <td>0</td>\n      <td>0</td>\n      <td>0</td>\n      <td>0</td>\n      <td>0</td>\n      <td>0</td>\n      <td>0</td>\n      <td>1</td>\n      <td>0</td>\n      <td>7</td>\n      <td>24.794444</td>\n    </tr>\n    <tr>\n      <th>...</th>\n      <td>...</td>\n      <td>...</td>\n      <td>...</td>\n      <td>...</td>\n      <td>...</td>\n      <td>...</td>\n      <td>...</td>\n      <td>...</td>\n      <td>...</td>\n      <td>...</td>\n      <td>...</td>\n      <td>...</td>\n      <td>...</td>\n      <td>...</td>\n      <td>...</td>\n      <td>...</td>\n      <td>...</td>\n      <td>...</td>\n      <td>...</td>\n      <td>...</td>\n    </tr>\n    <tr>\n      <th>9641</th>\n      <td>rain</td>\n      <td>14.944444</td>\n      <td>14.944444</td>\n      <td>0.67</td>\n      <td>7.1645</td>\n      <td>132.0</td>\n      <td>10.3523</td>\n      <td>1014.90</td>\n      <td>0</td>\n      <td>0</td>\n      <td>0</td>\n      <td>0</td>\n      <td>0</td>\n      <td>0</td>\n      <td>0</td>\n      <td>0</td>\n      <td>1</td>\n      <td>0</td>\n      <td>4</td>\n      <td>14.944444</td>\n    </tr>\n    <tr>\n      <th>9642</th>\n      <td>rain</td>\n      <td>8.905556</td>\n      <td>8.905556</td>\n      <td>0.83</td>\n      <td>4.4597</td>\n      <td>357.0</td>\n      <td>11.2056</td>\n      <td>1012.62</td>\n      <td>0</td>\n      <td>0</td>\n      <td>0</td>\n      <td>0</td>\n      <td>0</td>\n      <td>0</td>\n      <td>0</td>\n      <td>0</td>\n      <td>1</td>\n      <td>0</td>\n      <td>4</td>\n      <td>8.905556</td>\n    </tr>\n    <tr>\n      <th>9643</th>\n      <td>rain</td>\n      <td>27.200000</td>\n      <td>28.005556</td>\n      <td>0.56</td>\n      <td>8.4042</td>\n      <td>200.0</td>\n      <td>9.9820</td>\n      <td>1017.87</td>\n      <td>0</td>\n      <td>0</td>\n      <td>0</td>\n      <td>0</td>\n      <td>0</td>\n      <td>0</td>\n      <td>0</td>\n      <td>0</td>\n      <td>1</td>\n      <td>0</td>\n      <td>6</td>\n      <td>27.200000</td>\n    </tr>\n    <tr>\n      <th>9644</th>\n      <td>snow</td>\n      <td>-3.888889</td>\n      <td>-7.305556</td>\n      <td>0.84</td>\n      <td>8.0500</td>\n      <td>210.0</td>\n      <td>8.0500</td>\n      <td>1025.90</td>\n      <td>0</td>\n      <td>0</td>\n      <td>0</td>\n      <td>0</td>\n      <td>0</td>\n      <td>0</td>\n      <td>0</td>\n      <td>0</td>\n      <td>1</td>\n      <td>0</td>\n      <td>1</td>\n      <td>-3.888889</td>\n    </tr>\n    <tr>\n      <th>9645</th>\n      <td>snow</td>\n      <td>-4.972222</td>\n      <td>-4.972222</td>\n      <td>0.92</td>\n      <td>0.1288</td>\n      <td>140.0</td>\n      <td>0.0644</td>\n      <td>1033.88</td>\n      <td>0</td>\n      <td>0</td>\n      <td>0</td>\n      <td>0</td>\n      <td>0</td>\n      <td>1</td>\n      <td>0</td>\n      <td>0</td>\n      <td>0</td>\n      <td>0</td>\n      <td>11</td>\n      <td>-4.972222</td>\n    </tr>\n  </tbody>\n</table>\n<p>96453 rows × 20 columns</p>\n</div>"
     },
     "execution_count": 226,
     "metadata": {},
     "output_type": "execute_result"
    }
   ],
   "source": [
    "df_full"
   ]
  },
  {
   "cell_type": "code",
   "execution_count": 227,
   "metadata": {
    "pycharm": {
     "name": "#%%\n"
    }
   },
   "outputs": [
    {
     "data": {
      "text/plain": "5.777777777777778"
     },
     "execution_count": 227,
     "metadata": {},
     "output_type": "execute_result"
    }
   ],
   "source": [
    "\n",
    "df_full.iloc[0,-1]\n",
    "\n"
   ]
  },
  {
   "cell_type": "code",
   "execution_count": 228,
   "metadata": {
    "pycharm": {
     "name": "#%%\n"
    }
   },
   "outputs": [],
   "source": [
    "for i in range(df_full.shape[0]):\n",
    "    if df_full.iloc[i,0] == \"rain\":\n",
    "        df_full.iloc[i,-1] = 0\n",
    "    elif df_full.iloc[i,0] == \"snow\":\n",
    "        df_full.iloc[i,-1] = 1\n",
    "    else:\n",
    "        if df_full.iloc[i,2] >= 0:\n",
    "            df_full.iloc[i,-1] = 0\n",
    "        else:\n",
    "            df_full.iloc[i,-1] = 1"
   ]
  },
  {
   "cell_type": "code",
   "execution_count": 229,
   "metadata": {
    "pycharm": {
     "name": "#%%\n"
    }
   },
   "outputs": [],
   "source": [
    "df_full = df_full.drop([\"Precip Type\"], axis=1)"
   ]
  },
  {
   "cell_type": "markdown",
   "metadata": {
    "pycharm": {
     "name": "#%% md\n"
    }
   },
   "source": [
    "### Last glance of the data"
   ]
  },
  {
   "cell_type": "code",
   "execution_count": 230,
   "metadata": {
    "pycharm": {
     "name": "#%%\n"
    }
   },
   "outputs": [],
   "source": [
    "df_full_y = df_full[\"Temperature (C)\"]\n",
    "df_full_X = df_full.drop(columns=[\"Temperature (C)\"])"
   ]
  },
  {
   "cell_type": "code",
   "execution_count": 231,
   "metadata": {
    "pycharm": {
     "name": "#%%\n"
    }
   },
   "outputs": [],
   "source": [
    "df_full_X = df_full_X.drop(columns=[\"Apparent Temperature (C)\"])"
   ]
  },
  {
   "cell_type": "code",
   "execution_count": 232,
   "metadata": {
    "pycharm": {
     "name": "#%%\n"
    }
   },
   "outputs": [
    {
     "name": "stdout",
     "output_type": "stream",
     "text": [
      "<class 'pandas.core.frame.DataFrame'>\n",
      "Int64Index: 96453 entries, 0 to 9645\n",
      "Data columns (total 19 columns):\n",
      " #   Column                    Non-Null Count  Dtype  \n",
      "---  ------                    --------------  -----  \n",
      " 0   Temperature (C)           96453 non-null  float64\n",
      " 1   Apparent Temperature (C)  96453 non-null  float64\n",
      " 2   Humidity                  96453 non-null  float64\n",
      " 3   Wind Speed (km/h)         96453 non-null  float64\n",
      " 4   Wind Bearing (degrees)    96453 non-null  float64\n",
      " 5   Visibility (km)           96453 non-null  float64\n",
      " 6   Pressure (millibars)      96453 non-null  float64\n",
      " 7   Breezy                    96453 non-null  int64  \n",
      " 8   Clear                     96453 non-null  int64  \n",
      " 9   Windy                     96453 non-null  int64  \n",
      " 10  Dizzle                    96453 non-null  int64  \n",
      " 11  Dry                       96453 non-null  int64  \n",
      " 12  Foggy                     96453 non-null  int64  \n",
      " 13  Humid                     96453 non-null  int64  \n",
      " 14  Rain                      96453 non-null  int64  \n",
      " 15  Cloudy                    96453 non-null  int64  \n",
      " 16  Overcast                  96453 non-null  int64  \n",
      " 17  Month                     96453 non-null  int64  \n",
      " 18  Precip                    96453 non-null  float64\n",
      "dtypes: float64(8), int64(11)\n",
      "memory usage: 14.7 MB\n"
     ]
    }
   ],
   "source": [
    "df_full.info()"
   ]
  },
  {
   "cell_type": "code",
   "execution_count": 233,
   "metadata": {
    "pycharm": {
     "name": "#%%\n"
    }
   },
   "outputs": [
    {
     "name": "stdout",
     "output_type": "stream",
     "text": [
      "LinearRegression 34.324203048912466\n",
      "Lasso 66.54658532565685\n",
      "LinearSVR 40.69707408588691\n",
      "RandomForestRegressor 6.7698237077235826\n"
     ]
    }
   ],
   "source": [
    "for models in [LinearRegression(), Lasso(), LinearSVR(), RandomForestRegressor()]:\n",
    "    model = models\n",
    "    model.fit(X_train, y_train)\n",
    "    predictions = model.predict(X_test)\n",
    "    accuracy = sklearn.metrics.mean_squared_error(y_test, predictions)\n",
    "    print(str(models).split('(')[0], accuracy)"
   ]
  },
  {
   "cell_type": "code",
   "execution_count": 234,
   "metadata": {
    "pycharm": {
     "name": "#%%\n"
    }
   },
   "outputs": [],
   "source": [
    "X_train = df_full_X[:df_train.shape[0]]\n",
    "X_test = df_full_X[df_train.shape[0]:]\n",
    "y_train = df_full_y[:df_train.shape[0]]\n",
    "y_test = df_full_y[df_train.shape[0]:]"
   ]
  },
  {
   "cell_type": "markdown",
   "metadata": {
    "pycharm": {
     "name": "#%% md\n"
    }
   },
   "source": [
    "Lastly, we want to shuffle this dataset(To prevent overfitting), and set a validation set"
   ]
  },
  {
   "cell_type": "code",
   "execution_count": 235,
   "metadata": {
    "pycharm": {
     "name": "#%%\n"
    }
   },
   "outputs": [],
   "source": [
    "from sklearn.utils import shuffle\n",
    "from sklearn.model_selection import train_test_split\n",
    "\n",
    "X_train, y_train = shuffle(X_train, y_train, random_state=42)\n",
    "# X_train, X_val, y_train, y_val = train_test_split(X_train, y_train, test_size=0.1, random_state=42)"
   ]
  },
  {
   "cell_type": "code",
   "execution_count": 236,
   "metadata": {
    "pycharm": {
     "name": "#%%\n"
    }
   },
   "outputs": [
    {
     "name": "stdout",
     "output_type": "stream",
     "text": [
      "Training X Size: (86807, 17)\n",
      "Testing X Size: (9646, 17)\n",
      "Training y Size: (86807,)\n",
      "Testing y Size: (9646,)\n"
     ]
    }
   ],
   "source": [
    "print(\"Training X Size:\", X_train.shape)\n",
    "print(\"Testing X Size:\", X_test.shape)\n",
    "print(\"Training y Size:\", y_train.shape)\n",
    "print(\"Testing y Size:\", y_test.shape)"
   ]
  },
  {
   "cell_type": "markdown",
   "metadata": {
    "pycharm": {
     "name": "#%% md\n"
    }
   },
   "source": [
    "## Model training"
   ]
  },
  {
   "cell_type": "code",
   "execution_count": 237,
   "metadata": {
    "pycharm": {
     "name": "#%%\n"
    }
   },
   "outputs": [],
   "source": [
    "train_sizes = [20, 50, 100, 200, 500, 2000, 10000, 69445]"
   ]
  },
  {
   "cell_type": "code",
   "execution_count": 238,
   "metadata": {
    "pycharm": {
     "name": "#%%\n"
    }
   },
   "outputs": [],
   "source": [
    "from sklearn.model_selection import learning_curve\n",
    "\n",
    "def learning_curves(estimator, X, y, train_sizes, cv):\n",
    "    train_sizes, train_scores, validation_scores = learning_curve(\n",
    "        estimator, X, y, train_sizes = train_sizes,\n",
    "        cv = cv, scoring = 'neg_mean_squared_error')\n",
    "\n",
    "    train_scores_mean = -train_scores.mean(axis = 1)\n",
    "    validation_scores_mean = -validation_scores.mean(axis = 1)\n",
    "\n",
    "    return train_scores_mean, validation_scores_mean\n",
    "\n",
    "\n",
    "def curves_plot(estimator, train_scores_mean, validation_scores_mean):\n",
    "    plt.plot(train_sizes, train_scores_mean, label = 'Training error')\n",
    "    plt.plot(train_sizes, validation_scores_mean, label = 'Validation error')\n",
    "\n",
    "    plt.ylabel('MSE')\n",
    "    plt.xlabel('Training set size')\n",
    "    plt.title(str(estimator).split('(')[0])\n",
    "    plt.xscale('log')\n",
    "    plt.yscale('log')\n",
    "    plt.legend()\n",
    "    plt.tight_layout()\n",
    "    plt.ylim(0,int(np.max(validation_scores_mean)*1.1)+1)"
   ]
  },
  {
   "cell_type": "code",
   "execution_count": 239,
   "metadata": {
    "pycharm": {
     "name": "#%%\n"
    }
   },
   "outputs": [
    {
     "name": "stdout",
     "output_type": "stream",
     "text": [
      "LinearRegression 0.4183802604675293\n",
      "LinearSVR 18.377438068389893\n",
      "RandomForestRegressor 158.4000346660614\n",
      "MLPRegressor 195.02122020721436\n"
     ]
    }
   ],
   "source": [
    "from sklearn.linear_model import LinearRegression\n",
    "from sklearn.svm import LinearSVR\n",
    "from sklearn.ensemble import RandomForestRegressor\n",
    "from sklearn.neural_network import MLPRegressor\n",
    "\n",
    "scores_list = list()\n",
    "i = 1\n",
    "\n",
    "models = [LinearRegression(), LinearSVR(), RandomForestRegressor(),\n",
    "          MLPRegressor(hidden_layer_sizes=(50,100,50), activation='relu', solver='adam',\n",
    "                       alpha=0.01, max_iter=200)]\n",
    "\n",
    "for model in models:\n",
    "    start = time.time()\n",
    "    train_scores_mean, validation_scores_mean = learning_curves(model, X_train, y_train, train_sizes, 6)\n",
    "    scores_list.append([model, i, train_scores_mean, validation_scores_mean])\n",
    "    end = time.time()\n",
    "    print(str(model).split('(')[0], end - start)\n",
    "    i += 1"
   ]
  },
  {
   "cell_type": "code",
   "execution_count": 240,
   "metadata": {
    "pycharm": {
     "name": "#%%\n"
    }
   },
   "outputs": [
    {
     "data": {
      "text/plain": "<Figure size 800x600 with 4 Axes>",
      "image/png": "[encoded data removed]"
     },
     "metadata": {},
     "output_type": "display_data"
    }
   ],
   "source": [
    "plt.figure(figsize = (8,6))\n",
    "for model, i, train_scores_mean, validation_scores_mean in scores_list:\n",
    "    plt.subplot(2,2,i)\n",
    "    curves_plot(model, train_scores_mean, validation_scores_mean)"
   ]
  },
  {
   "cell_type": "code",
   "execution_count": 241,
   "metadata": {
    "pycharm": {
     "name": "#%%\n"
    }
   },
   "outputs": [
    {
     "name": "stdout",
     "output_type": "stream",
     "text": [
      "[LinearRegression 4.783374578073434\n",
      "[LinearRegression 7.030229728311823\n",
      "[LinearRegression 1.9386901909610805\n",
      "[LinearRegression 2.732097225443648\n"
     ]
    }
   ],
   "source": [
    "for mode in models:\n",
    "    model = mode\n",
    "    model.fit(X_train, y_train)\n",
    "    predictions = model.predict(X_test)\n",
    "    accuracy = sklearn.metrics.mean_absolute_error(y_test, predictions)\n",
    "    print(str(models).split('(')[0], accuracy)"
   ]
  },
  {
   "cell_type": "code",
   "execution_count": 243,
   "outputs": [
    {
     "name": "stdout",
     "output_type": "stream",
     "text": [
      "[LinearRegression 34.324203048912466\n",
      "[LinearRegression 126.99497814744177\n",
      "[LinearRegression 6.751346633858653\n",
      "[LinearRegression 11.83706176649106\n"
     ]
    }
   ],
   "source": [
    "for mode in models:\n",
    "    model = mode\n",
    "    model.fit(X_train, y_train)\n",
    "    predictions = model.predict(X_test)\n",
    "    accuracy = sklearn.metrics.mean_squared_error(y_test, predictions)\n",
    "    print(str(models).split('(')[0], accuracy)"
   ],
   "metadata": {
    "collapsed": false,
    "pycharm": {
     "name": "#%%\n"
    }
   }
  },
  {
   "cell_type": "code",
   "execution_count": 242,
   "outputs": [],
   "source": [],
   "metadata": {
    "collapsed": false,
    "pycharm": {
     "name": "#%%\n"
    }
   }
  },
  {
   "cell_type": "code",
   "execution_count": null,
   "metadata": {},
   "outputs": [],
   "source": []
  }
 ],
 "metadata": {
  "kernelspec": {
   "display_name": "Python 3 (ipykernel)",
   "language": "python",
   "name": "python3"
  },
  "language_info": {
   "codemirror_mode": {
    "name": "ipython",
    "version": 3
   },
   "file_extension": ".py",
   "mimetype": "text/x-python",
   "name": "python",
   "nbconvert_exporter": "python",
   "pygments_lexer": "ipython3",
   "version": "3.9.13"
  }
 },
 "nbformat": 4,
 "nbformat_minor": 1
}